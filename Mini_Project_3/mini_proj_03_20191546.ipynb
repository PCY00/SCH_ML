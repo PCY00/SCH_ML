{
 "cells": [
  {
   "cell_type": "code",
   "execution_count": 32,
   "id": "6732040b",
   "metadata": {},
   "outputs": [],
   "source": [
    "import os\n",
    "import pandas as pd\n",
    "import numpy as np\n",
    "from sklearn.preprocessing import OrdinalEncoder\n",
    "from sklearn.impute import SimpleImputer\n",
    "from sklearn.preprocessing import MinMaxScaler, StandardScaler\n",
    "from lightgbm import LGBMRegressor\n",
    "from sklearn.ensemble import VotingRegressor\n",
    "from sklearn.ensemble import RandomForestRegressor\n",
    "\n",
    "os.chdir('C:/Users/kksp1/OneDrive/Desktop/3_2학기 해야할 일/수업/3-2/머신러닝/미니프로젝트/풀젝_3')\n",
    "#print(os.getcwd())\n",
    "input_file = \"kc_house_data.csv\"\n",
    "housing_train = pd.read_csv(input_file)"
   ]
  },
  {
   "cell_type": "markdown",
   "id": "b0739c27",
   "metadata": {},
   "source": [
    "## 꼬리표 나누기"
   ]
  },
  {
   "cell_type": "code",
   "execution_count": 33,
   "id": "e3b0bfa5",
   "metadata": {},
   "outputs": [],
   "source": [
    "housing_train = housing_train.drop(\"id\", axis=1)\n",
    "# housing_train = housing_train.drop(\"zipcode\", axis=1)\n",
    "train_target = housing_train[\"price\"].copy()\n"
   ]
  },
  {
   "cell_type": "code",
   "execution_count": 34,
   "id": "24c7a7ec",
   "metadata": {},
   "outputs": [],
   "source": [
    "ordinal_encoder = OrdinalEncoder() #각 범주를 대응하는 숫자로 변환"
   ]
  },
  {
   "cell_type": "markdown",
   "id": "77c686b7",
   "metadata": {},
   "source": [
    "## 특성공학"
   ]
  },
  {
   "cell_type": "code",
   "execution_count": 35,
   "id": "3173077b",
   "metadata": {},
   "outputs": [],
   "source": [
    "ordinal_encoder = OrdinalEncoder()\n",
    "housing_train['date'] = pd.to_datetime(housing_train['date'])\n",
    "housing_train[\"tr_year\"] = housing_train[\"date\"].dt.year\n",
    "housing_train[\"tr_month\"] = housing_train[\"date\"].dt.month\n",
    "housing_train[\"tr_day_name\"] = housing_train[\"date\"].dt.day_name\n",
    "housing_train[\"date\"] = housing_train[\"date\"].dt.strftime('%Y-%m')\n",
    "housing_train[\"tr_year\"] = ordinal_encoder.fit_transform(housing_train[[\"tr_year\"]])\n",
    "housing_train[\"tr_month\"] = ordinal_encoder.fit_transform(housing_train[[\"tr_month\"]])\n",
    "housing_train[\"tr_day_name\"] = ordinal_encoder.fit_transform(housing_train[[\"tr_day_name\"]])\n",
    "housing_train[\"date\"] = ordinal_encoder.fit_transform(housing_train[[\"date\"]])\n"
   ]
  },
  {
   "cell_type": "markdown",
   "id": "ad8279b1",
   "metadata": {},
   "source": [
    "### 데이터 표준화"
   ]
  },
  {
   "cell_type": "code",
   "execution_count": 36,
   "id": "52937530",
   "metadata": {},
   "outputs": [
    {
     "data": {
      "text/plain": [
       "array([[-0.12093399, -0.86671733, -0.39873715, ..., -0.69065478,\n",
       "         1.09962055,  0.        ],\n",
       "       [ 0.41670797, -0.00568792, -0.39873715, ..., -0.69065478,\n",
       "         1.74162654,  0.        ],\n",
       "       [ 0.95434994, -0.98084935, -1.47395936, ...,  1.44790136,\n",
       "        -1.46840343,  0.        ],\n",
       "       ...,\n",
       "       [-1.19621792, -0.37586519, -1.47395936, ..., -0.69065478,\n",
       "        -0.18439144,  0.        ],\n",
       "       [ 0.68552895, -0.38158814, -0.39873715, ...,  1.44790136,\n",
       "        -1.78940643,  0.        ],\n",
       "       [-0.12093399, -0.58588173, -1.47395936, ..., -0.69065478,\n",
       "         1.09962055,  0.        ]])"
      ]
     },
     "execution_count": 36,
     "metadata": {},
     "output_type": "execute_result"
    }
   ],
   "source": [
    "scaler = StandardScaler()\n",
    "scaler.fit_transform(housing_train)"
   ]
  },
  {
   "cell_type": "markdown",
   "id": "ad4f336c",
   "metadata": {},
   "source": [
    "### 특성공학 이어서"
   ]
  },
  {
   "cell_type": "code",
   "execution_count": 37,
   "id": "08d14010",
   "metadata": {},
   "outputs": [],
   "source": [
    "housing_train['sqft_living+bathrooms'] = housing_train['sqft_living'] + housing_train['bathrooms']\n",
    "# housing_train['house_age'] = 2023 - housing_train['yr_built']\n",
    "# housing_train['years_since_renovation'] = 2023 - housing_train['yr_renovated']\n",
    "# housing_train['indoor_to_outdoor_ratio'] = housing_train['sqft_living'] / housing_train['sqft_lot']\n",
    "housing_train['basement_to_living_ratio'] = housing_train['sqft_basement'] / housing_train['sqft_living']\n",
    "housing_train['location'] = housing_train['lat'] + housing_train['long']\n",
    "\n",
    "# housing_train['bedrooms_to_bathrooms_ratio'] = housing_train['bedrooms'] / housing_train['bathrooms']\n",
    "housing_train['living_to_floors_ratio'] = housing_train['sqft_living'] / housing_train['floors']\n",
    "\n",
    "housing_train['Totalviews'] = housing_train['view'] + housing_train['waterfront']\n",
    "housing_train['Totalviews//'] = housing_train['view'] // housing_train['waterfront']\n",
    "\n",
    "housing_train['Toalsizes'] = housing_train['sqft_living'] + housing_train['sqft_above'] + housing_train['sqft_basement'] + housing_train['sqft_living15']\n",
    "\n",
    "\n",
    "\n",
    "housing_train[\"house_per_sqft_livings\"] = 1 / (housing_train[\"sqft_living\"] + housing_train[\"sqft_living15\"])\n",
    "\n",
    "housing_train['(sqft_living*grade)/2'] = (housing_train['sqft_living'] * housing_train['grade']) / 2\n",
    "\n",
    "\n",
    "housing_train['(sqft_living//waterfront/sqft_living)'] = ((housing_train['sqft_living']))//(housing_train['waterfront']/housing_train['sqft_living'])\n",
    "\n",
    "\n",
    "housing_train[\"sqft_living*waterfront\"] = housing_train[\"sqft_living\"] * housing_train[\"waterfront\"]\n",
    "\n",
    "\n",
    "# #삭제될 예정\n",
    "# housing_train['(sqft_living//waterfront/sqft_living)'] = ((housing_train['sqft_living']))//(housing_train['waterfront']/housing_train['sqft_living'])\n",
    "housing_train['(waterfront//waterfront/sqft_living)'] = (housing_train['waterfront']//(housing_train['waterfront']/housing_train['sqft_living']))\n",
    "housing_train['((sqft_living//waterfront/sqft_living)//(waterfront//waterfront/sqft_living))'] = housing_train['(sqft_living//waterfront/sqft_living)']//housing_train['(waterfront//waterfront/sqft_living)']\n",
    "# #삭제될 예정\n",
    "housing_train['(waterfront/waterfront/sqft_living)'] = (housing_train['waterfront']/housing_train['waterfront']/housing_train['sqft_living'])\n",
    "housing_train['(sqft_living**2)//(waterfront/waterfront/sqft_living)'] = (housing_train['sqft_living']**2)//(housing_train['(waterfront/waterfront/sqft_living)'])\n",
    "#((sqft_living**2)//(waterfront//(waterfront/sqft_living)))\n",
    "\n",
    "# #삭제될 예정\n",
    "housing_train['(waterfront//(waterfront/sqft_living))'] = housing_train['waterfront']//(housing_train['waterfront']/housing_train['sqft_living'])#(sqft_living//((sqft_living//waterfront/sqft_living)//(waterfront//waterfront/sqft_living)) ## 89.7\n",
    "housing_train['(sqft_living//((sqft_living//waterfront/sqft_living)//(waterfront//waterfront/sqft_living))'] = ((housing_train['sqft_living']) // ((housing_train['(sqft_living//waterfront/sqft_living)'])) // (housing_train['(waterfront//waterfront/sqft_living)']))\n",
    "\n",
    "# #사용될 예정\n",
    "housing_train['(waterfront//waterfront/sqft_living/(sqft_living//((sqft_living//waterfront/sqft_living)//(waterfront//waterfront/sqft_living))))'] = housing_train['(waterfront//waterfront/sqft_living)'] / housing_train['(sqft_living//((sqft_living//waterfront/sqft_living)//(waterfront//waterfront/sqft_living))']\n",
    "housing_train['((sqft_living**2)//(waterfront//(waterfront/sqft_living)))'] = ((housing_train['sqft_living']**2)//(housing_train['waterfront']//(housing_train['waterfront']/housing_train['sqft_living'])))\n",
    "# ((sqft_living**2)//(waterfront//waterfront/sqft_living))                         0.889701\n",
    "# (waterfront//waterfront/sqft_living/(sqft_living//((sqft_living//waterfront/sqft_living)//(waterfront//waterfront/sqft_living)))) # 89.7\n",
    "\n",
    "# # 0.911651 ##\n",
    "housing_train['(((waterfront//waterfront/sqft_living))/((((waterfront//waterfront/sqft_living))//(((sqft_living**2)//(waterfront//(waterfront/sqft_living)))))))']= (((housing_train['(waterfront//waterfront/sqft_living)'])/((((housing_train['(waterfront//waterfront/sqft_living)']))//(housing_train['((sqft_living**2)//(waterfront//(waterfront/sqft_living)))'])))))\n",
    "\n",
    "\n",
    "# # # 0.912095\n",
    "# housing_train['(sqft_living//waterfront/(((sqft_living**2)//(waterfront//(waterfront/sqft_living)))//(((waterfront//waterfront/sqft_living))/((((waterfront//waterfront/sqft_living))//(((sqft_living**2)//(waterfront//(waterfront/sqft_living)))))))))']= housing_train['sqft_living//waterfront']/(housing_train['((sqft_living**2)//(waterfront//(waterfront/sqft_living)))']//housing_train['(((waterfront//waterfront/sqft_living))/((((waterfront//waterfront/sqft_living))//(((sqft_living**2)//(waterfront//(waterfront/sqft_living)))))))'])\n",
    "\n",
    "# 0.928359\n",
    "\n",
    "# housing_train['(3*location+(((waterfront//waterfront/sqft_living))/((((waterfront//waterfront/sqft_living))//(((sqft_living**2)//(waterfront//(waterfront/sqft_living))))))))'] = (3*housing_train['location'])+housing_train['(((waterfront//waterfront/sqft_living))/((((waterfront//waterfront/sqft_living))//(((sqft_living**2)//(waterfront//(waterfront/sqft_living)))))))']\n",
    "\n",
    "# housing_train['(2*location+(((waterfront//waterfront/sqft_living))/((((waterfront//waterfront/sqft_living))//(((sqft_living**2)//(waterfront//(waterfront/sqft_living))))))))'] = (2*housing_train['location'])+housing_train['(((waterfront//waterfront/sqft_living))/((((waterfront//waterfront/sqft_living))//(((sqft_living**2)//(waterfront//(waterfront/sqft_living)))))))']\n",
    "\n",
    "# housing_train['(3*lat+(((waterfront//waterfront/sqft_living))/((((waterfront//waterfront/sqft_living))//(((sqft_living**2)//(waterfront//(waterfront/sqft_living))))))))'] = (3*housing_train['lat']) + housing_train['(((waterfront//waterfront/sqft_living))/((((waterfront//waterfront/sqft_living))//(((sqft_living**2)//(waterfront//(waterfront/sqft_living)))))))']\n",
    "\n",
    "\n",
    "housing_train = housing_train.drop('(waterfront//waterfront/sqft_living)', axis=1)\n",
    "housing_train = housing_train.drop('(waterfront/waterfront/sqft_living)', axis=1)\n",
    "housing_train = housing_train.drop('(sqft_living**2)//(waterfront/waterfront/sqft_living)', axis=1)\n",
    "housing_train = housing_train.drop('(sqft_living//((sqft_living//waterfront/sqft_living)//(waterfront//waterfront/sqft_living))', axis=1)\n",
    "housing_train = housing_train.drop('(waterfront//waterfront/sqft_living/(sqft_living//((sqft_living//waterfront/sqft_living)//(waterfront//waterfront/sqft_living))))', axis=1)\n",
    "housing_train = housing_train.drop('(sqft_living//waterfront/sqft_living)', axis=1)\n",
    "\n",
    "\n",
    "#((sqft_living+2waterfront//waterfront/sqft_living)/(waterfront//((sqft_living//waterfront/sqft_living)//(waterfront//waterfront/sqft_living))))    -0.834290\n",
    "#                                                                                                                                                     (               (waterfront//waterfront/sqft_living)  /(               waterfront  //               ((sqft_living//waterfront/sqft_living)//(waterfront//waterfront/sqft_living))  ))                 -0.833450\n",
    "# housing_train['((waterfront//waterfront/sqft_living)/(waterfront//((sqft_living//waterfront/sqft_living)//(waterfront//waterfront/sqft_living))))'] = (housing_train['(waterfront//(waterfront/sqft_living))']/(housing_train['waterfront']//housing_train['((sqft_living//waterfront/sqft_living)//(waterfront//waterfront/sqft_living))']))\n",
    "housing_train = housing_train.drop('((sqft_living//waterfront/sqft_living)//(waterfront//waterfront/sqft_living))', axis=1)\n",
    "housing_train = housing_train.drop('(waterfront//(waterfront/sqft_living))', axis=1)\n",
    "\n",
    "\n",
    "filtered_train_data = housing_train.drop('price', axis=1)\n",
    "# filtered_train_data = filtered_train_data.drop('tr_year', axis=1)\n",
    "filtered_train_data.replace([np.inf, -np.inf], np.nan, inplace=True)\n"
   ]
  },
  {
   "cell_type": "markdown",
   "id": "b2916f05",
   "metadata": {},
   "source": [
    "## 함수정의"
   ]
  },
  {
   "cell_type": "code",
   "execution_count": 38,
   "id": "27f7374b",
   "metadata": {},
   "outputs": [],
   "source": [
    "\n",
    "def display_scores(scores):\n",
    "    print(\"Scores:\", scores)\n",
    "    print(\"Mean:\", scores.mean())\n",
    "    print(\"Standard deviation:\", scores.std())"
   ]
  },
  {
   "cell_type": "markdown",
   "id": "721e092b",
   "metadata": {},
   "source": [
    "## 모델 선정"
   ]
  },
  {
   "cell_type": "code",
   "execution_count": 29,
   "id": "b6f082ff",
   "metadata": {},
   "outputs": [
    {
     "name": "stdout",
     "output_type": "stream",
     "text": [
      "=======================================================================================\n",
      "Scores: [104587.68152537 103300.76822701 113641.87072352 100002.08872727\n",
      " 109321.91751173 118264.85898364 111451.19089265 114809.68031665\n",
      " 118500.5677847  115322.09727176]\n",
      "Mean: 110920.27219643048\n",
      "Standard deviation: 6111.598664147609\n",
      "=======================================================================================\n"
     ]
    }
   ],
   "source": [
    "from sklearn.model_selection import cross_val_score\n",
    "# 기본 시드 설정\n",
    "seed = 21345\n",
    "\n",
    "# 데이터 섞기\n",
    "np.random.seed(seed)\n",
    "sh_in = np.random.permutation(len(filtered_train_data))\n",
    "sh_t_data = filtered_train_data.values[sh_in]\n",
    "sh_t_target = train_target.values[sh_in]\n",
    "\n",
    "lgbm = LGBMRegressor(max_depth = None, min_data_in_leaf = 20, feature_fraction = 1.0, n_estimators=100,\n",
    "                     bagging_fraction = 0.1, min_gain_to_split = 1, Task = 1,\n",
    "                     application = 'regression',num_boost_round = 790,learning_rate = 0.1155,\n",
    "                     num_leaves = 31 ,random_state=0)\n",
    "\n",
    "lgbm_scores = cross_val_score(lgbm, sh_t_data, sh_t_target, scoring=\"neg_mean_squared_error\", cv = 10, n_jobs=-1)\n",
    "lgbm_rmse_scores = np.sqrt(-lgbm_scores)\n",
    "\n",
    "print(\"=======================================================================================\")\n",
    "display_scores(lgbm_rmse_scores)\n",
    "print(\"=======================================================================================\")"
   ]
  },
  {
   "cell_type": "code",
   "execution_count": 40,
   "id": "a7f8d936",
   "metadata": {
    "scrolled": true
   },
   "outputs": [
    {
     "name": "stdout",
     "output_type": "stream",
     "text": [
      "=======================================================================================\n",
      "Scores: [122348.05952307  94499.35636369 117007.53506535  83628.8717908\n",
      " 105830.95531101 121477.34595344 105426.34835928  96323.97220175\n",
      " 106788.33147607 111901.67908371]\n",
      "Mean: 106523.24551281861\n",
      "Standard deviation: 11778.802518379614\n",
      "=======================================================================================\n"
     ]
    }
   ],
   "source": [
    "# 기본 시드 설정\n",
    "seed = 21366\n",
    "\n",
    "# 데이터 섞기\n",
    "np.random.seed(seed)\n",
    "sh_in = np.random.permutation(len(filtered_train_data))\n",
    "sh_t_data = filtered_train_data.values[sh_in]\n",
    "sh_t_target = train_target.values[sh_in]\n",
    "\n",
    "catboost = CatBoostRegressor(depth=7, learning_rate=0.1, n_estimators=2000, verbose=0)\n",
    "\n",
    "catboost_scores = cross_val_score(catboost, sh_t_data, sh_t_target, scoring=\"neg_mean_squared_error\", cv=10, n_jobs=-1)\n",
    "catboost_rmse_scores = np.sqrt(-catboost_scores)\n",
    "\n",
    "print(\"=======================================================================================\")\n",
    "display_scores(catboost_rmse_scores)\n",
    "print(\"=======================================================================================\")"
   ]
  },
  {
   "cell_type": "markdown",
   "id": "c2bed12e",
   "metadata": {},
   "source": [
    "# Mean: 106523.24551281861"
   ]
  }
 ],
 "metadata": {
  "kernelspec": {
   "display_name": "Python 3 (ipykernel)",
   "language": "python",
   "name": "python3"
  },
  "language_info": {
   "codemirror_mode": {
    "name": "ipython",
    "version": 3
   },
   "file_extension": ".py",
   "mimetype": "text/x-python",
   "name": "python",
   "nbconvert_exporter": "python",
   "pygments_lexer": "ipython3",
   "version": "3.11.4"
  }
 },
 "nbformat": 4,
 "nbformat_minor": 5
}
